{
 "cells": [
  {
   "cell_type": "code",
   "execution_count": 1,
   "metadata": {},
   "outputs": [
    {
     "name": "stderr",
     "output_type": "stream",
     "text": [
      "Using TensorFlow backend.\n"
     ]
    }
   ],
   "source": [
    "import numpy as np\n",
    "from keras.models import Sequential\n",
    "from keras.layers import Activation, Dropout, Flatten, Dense\n",
    "from keras.preprocessing.image import ImageDataGenerator\n",
    "from keras.layers import Conv2D, MaxPooling2D\n",
    "from keras import optimizers\n",
    "import os\n",
    "from PIL import Image"
   ]
  },
  {
   "cell_type": "code",
   "execution_count": 2,
   "metadata": {
    "collapsed": true
   },
   "outputs": [],
   "source": [
    "import tensorflow as tf\n",
    "import glob\n",
    "video_filenames = sorted(glob.glob(\"./688_full_video_level_data/688/train/*.tfrecord\"))"
   ]
  },
  {
   "cell_type": "code",
   "execution_count": 3,
   "metadata": {
    "scrolled": true
   },
   "outputs": [
    {
     "name": "stdout",
     "output_type": "stream",
     "text": [
      "100 tfrecords processed.\n",
      "200 tfrecords processed.\n",
      "300 tfrecords processed.\n",
      "400 tfrecords processed.\n",
      "500 tfrecords processed.\n",
      "600 tfrecords processed.\n"
     ]
    }
   ],
   "source": [
    "vid_ids = []\n",
    "labels = []\n",
    "#mean_rgb = []\n",
    "new_rgb = []\n",
    "i = 0\n",
    "for vfn in video_filenames[:600]:\n",
    "    i += 1\n",
    "    for example in tf.python_io.tf_record_iterator(vfn):\n",
    "        tf_example = tf.train.Example.FromString(example)\n",
    "        vid_ids.append(tf_example.features.feature['video_id'].bytes_list.value[0].decode(encoding='UTF-8'))\n",
    "        labels.append(tf_example.features.feature['labels'].int64_list.value)\n",
    "        new_rgb.append(np.reshape(tf_example.features.feature['mean_rgb'].float_list.value, (32, 32, 1)))\n",
    "    if i%100 == 0:\n",
    "        print(str(i) + \" tfrecords processed.\")"
   ]
  },
  {
   "cell_type": "code",
   "execution_count": null,
   "metadata": {
    "collapsed": true
   },
   "outputs": [],
   "source": [
    "new_rgb = []\n",
    "for img in mean_rgb:\n",
    "    #for i in range(len(img)):\n",
    "    #    img[i] = (img[i] - np.min(img))/(np.max(img) - np.min(img))\n",
    "    new_img = np.reshape(img, (32, 32, 1))\n",
    "    new_rgb.append(new_img)"
   ]
  },
  {
   "cell_type": "code",
   "execution_count": 4,
   "metadata": {
    "collapsed": true
   },
   "outputs": [],
   "source": [
    "new_labels = []\n",
    "for label_list in labels:\n",
    "    label_one_hot = np.zeros(4716)\n",
    "    for label in label_list:\n",
    "        label_one_hot[label] = 1\n",
    "    new_labels.append(label_one_hot)"
   ]
  },
  {
   "cell_type": "code",
   "execution_count": null,
   "metadata": {
    "collapsed": true
   },
   "outputs": [],
   "source": [
    "img_width, img_height, img_depth = new_img.shape"
   ]
  },
  {
   "cell_type": "code",
   "execution_count": 5,
   "metadata": {
    "collapsed": true
   },
   "outputs": [],
   "source": [
    "datagen = ImageDataGenerator()"
   ]
  },
  {
   "cell_type": "code",
   "execution_count": 18,
   "metadata": {
    "collapsed": true
   },
   "outputs": [],
   "source": [
    "new_rgb = np.array(new_rgb)"
   ]
  },
  {
   "cell_type": "code",
   "execution_count": 27,
   "metadata": {},
   "outputs": [
    {
     "data": {
      "text/plain": [
       "(719372, 32, 32, 1)"
      ]
     },
     "execution_count": 27,
     "metadata": {},
     "output_type": "execute_result"
    }
   ],
   "source": [
    "new_rgb.shape"
   ]
  },
  {
   "cell_type": "code",
   "execution_count": 20,
   "metadata": {
    "collapsed": true
   },
   "outputs": [],
   "source": [
    "datagen.fit(new_rgb)"
   ]
  },
  {
   "cell_type": "code",
   "execution_count": 9,
   "metadata": {
    "collapsed": true
   },
   "outputs": [],
   "source": [
    "new_labels = np.array(new_labels)"
   ]
  },
  {
   "cell_type": "code",
   "execution_count": 21,
   "metadata": {
    "collapsed": true
   },
   "outputs": [],
   "source": [
    "feed_data = datagen.flow(new_rgb, new_labels, batch_size = 200)"
   ]
  },
  {
   "cell_type": "code",
   "execution_count": 10,
   "metadata": {
    "collapsed": true
   },
   "outputs": [],
   "source": [
    "video_filenames_val = sorted(glob.glob(\"./688_full_video_level_data/688/validate/*.tfrecord\"))\n",
    "new_rgb_val = []\n",
    "vid_ids_val = []\n",
    "labels_val = []\n",
    "#mean_rgb_val = []\n",
    "mean_audio_val = []\n",
    "for vfn in video_filenames_val[:300]:\n",
    "    for example in tf.python_io.tf_record_iterator(vfn):\n",
    "        tf_example = tf.train.Example.FromString(example)\n",
    "        vid_ids_val.append(tf_example.features.feature['video_id'].bytes_list.value[0].decode(encoding='UTF-8'))\n",
    "        labels_val.append(tf_example.features.feature['labels'].int64_list.value)\n",
    "        new_rgb_val.append(np.reshape(tf_example.features.feature['mean_rgb'].float_list.value, (32, 32, 1)))\n",
    "        #mean_rgb_val.append(tf_example.features.feature['mean_rgb'].float_list.value)\n",
    "        #mean_audio_val.append(tf_example.features.feature['mean_audio'].float_list.value)"
   ]
  },
  {
   "cell_type": "code",
   "execution_count": null,
   "metadata": {
    "collapsed": true
   },
   "outputs": [],
   "source": [
    "new_rgb_val = []\n",
    "for img in mean_rgb_val:\n",
    "    #for i in range(len(img)):\n",
    "    #    img[i] = (img[i] - np.min(img))/(np.max(img) - np.min(img))\n",
    "    new_img = np.reshape(img, (32, 32, 1))\n",
    "    new_rgb_val.append(new_img)\n",
    "    \n",
    "new_rgb_val = np.array(new_rgb_val)"
   ]
  },
  {
   "cell_type": "code",
   "execution_count": 11,
   "metadata": {
    "collapsed": true
   },
   "outputs": [],
   "source": [
    "new_labels_val = []\n",
    "for label_list in labels_val:\n",
    "    label_one_hot = np.zeros(4716)\n",
    "    for label in label_list:\n",
    "        label_one_hot[label] = 1\n",
    "    new_labels_val.append(label_one_hot)\n",
    "new_labels_val = np.array(new_labels_val)"
   ]
  },
  {
   "cell_type": "code",
   "execution_count": 29,
   "metadata": {
    "collapsed": true
   },
   "outputs": [],
   "source": [
    "new_rgb_val = np.array(new_rgb_val)"
   ]
  },
  {
   "cell_type": "code",
   "execution_count": 30,
   "metadata": {
    "collapsed": true
   },
   "outputs": [],
   "source": [
    "new_labels_val = np.array(new_labels_val)"
   ]
  },
  {
   "cell_type": "code",
   "execution_count": 22,
   "metadata": {
    "collapsed": true
   },
   "outputs": [],
   "source": [
    "#Model\n",
    "model = Sequential()\n",
    "model.add(Conv2D(32,(3,3), input_shape = (32, 32, 1)))\n",
    "model.add(Activation(\"relu\"))\n",
    "model.add(MaxPooling2D(pool_size = (2, 2)))\n",
    "\n",
    "model.add(Conv2D(32,(3,3)))\n",
    "model.add(Activation(\"relu\"))\n",
    "model.add(MaxPooling2D(pool_size = (2, 2)))\n",
    "\n",
    "model.add(Conv2D(64,(3,3)))\n",
    "model.add(Activation(\"relu\"))\n",
    "model.add(MaxPooling2D(pool_size = (2, 2)))\n",
    "\n",
    "#Dropout to prevent overfitting\n",
    "model.add(Flatten()) #flatten feature map into 1 dimension\n",
    "model.add(Dense(64))\n",
    "model.add(Activation(\"relu\"))\n",
    "model.add(Dropout(0.2))\n",
    "\n",
    "#final layer to predict probabilities\n",
    "model.add(Dense(4716))\n",
    "model.add(Activation(\"sigmoid\"))\n",
    "#model.add(Activation(\"softmax\"))"
   ]
  },
  {
   "cell_type": "code",
   "execution_count": 23,
   "metadata": {
    "collapsed": true
   },
   "outputs": [],
   "source": [
    "#perform gradient descent\n",
    "model.compile(loss = \"categorical_crossentropy\", optimizer = \"adam\", metrics = [\"accuracy\"])"
   ]
  },
  {
   "cell_type": "code",
   "execution_count": 31,
   "metadata": {},
   "outputs": [
    {
     "name": "stdout",
     "output_type": "stream",
     "text": [
      "Epoch 1/20\n",
      "3600/3600 [==============================] - 1004s 279ms/step - loss: 20.2250 - acc: 0.1412 - val_loss: 18.3001 - val_acc: 0.2036\n",
      "Epoch 2/20\n",
      "3600/3600 [==============================] - 938s 261ms/step - loss: 17.1436 - acc: 0.2127 - val_loss: 15.5385 - val_acc: 0.3488\n",
      "Epoch 3/20\n",
      "3600/3600 [==============================] - 894s 248ms/step - loss: 15.6592 - acc: 0.3364 - val_loss: 14.7321 - val_acc: 0.3802\n",
      "Epoch 4/20\n",
      "3600/3600 [==============================] - 916s 254ms/step - loss: 15.1282 - acc: 0.3539 - val_loss: 14.3478 - val_acc: 0.3786\n",
      "Epoch 5/20\n",
      "3600/3600 [==============================] - 905s 251ms/step - loss: 14.8331 - acc: 0.3638 - val_loss: 14.1549 - val_acc: 0.3881\n",
      "Epoch 6/20\n",
      "3600/3600 [==============================] - 908s 252ms/step - loss: 14.6353 - acc: 0.3694 - val_loss: 14.0361 - val_acc: 0.4021\n",
      "Epoch 7/20\n",
      "3600/3600 [==============================] - 885s 246ms/step - loss: 14.5053 - acc: 0.3721 - val_loss: 13.9321 - val_acc: 0.3966\n",
      "Epoch 8/20\n",
      "3600/3600 [==============================] - 808s 224ms/step - loss: 14.3980 - acc: 0.3738 - val_loss: 13.8068 - val_acc: 0.4051\n",
      "Epoch 9/20\n",
      "3600/3600 [==============================] - 801s 223ms/step - loss: 14.3226 - acc: 0.3751 - val_loss: 13.7155 - val_acc: 0.4044\n",
      "Epoch 10/20\n",
      "3600/3600 [==============================] - 838s 233ms/step - loss: 14.2494 - acc: 0.3755 - val_loss: 13.7113 - val_acc: 0.4072\n",
      "Epoch 11/20\n",
      "3600/3600 [==============================] - 841s 234ms/step - loss: 14.1926 - acc: 0.3764 - val_loss: 13.6764 - val_acc: 0.4130\n",
      "Epoch 12/20\n",
      "3600/3600 [==============================] - 835s 232ms/step - loss: 14.1443 - acc: 0.3765 - val_loss: 13.6726 - val_acc: 0.3990\n",
      "Epoch 13/20\n",
      "3600/3600 [==============================] - 844s 235ms/step - loss: 14.1057 - acc: 0.3775 - val_loss: 13.6277 - val_acc: 0.4041\n",
      "Epoch 14/20\n",
      "3600/3600 [==============================] - 835s 232ms/step - loss: 14.0727 - acc: 0.3773 - val_loss: 13.5489 - val_acc: 0.4210\n",
      "Epoch 15/20\n",
      "3600/3600 [==============================] - 838s 233ms/step - loss: 14.0326 - acc: 0.3774 - val_loss: 13.5313 - val_acc: 0.4106\n",
      "Epoch 16/20\n",
      "3600/3600 [==============================] - 839s 233ms/step - loss: 13.9950 - acc: 0.3780 - val_loss: 13.4848 - val_acc: 0.4091\n",
      "Epoch 17/20\n",
      "3600/3600 [==============================] - 840s 233ms/step - loss: 13.9664 - acc: 0.3777 - val_loss: 13.4738 - val_acc: 0.3979\n",
      "Epoch 18/20\n",
      "3600/3600 [==============================] - 836s 232ms/step - loss: 13.9402 - acc: 0.3784 - val_loss: 13.4935 - val_acc: 0.4061\n",
      "Epoch 19/20\n",
      "3600/3600 [==============================] - 838s 233ms/step - loss: 13.9242 - acc: 0.3786 - val_loss: 13.4629 - val_acc: 0.4083\n",
      "Epoch 20/20\n",
      "3600/3600 [==============================] - 838s 233ms/step - loss: 13.8971 - acc: 0.3786 - val_loss: 13.4003 - val_acc: 0.4131\n"
     ]
    },
    {
     "data": {
      "text/plain": [
       "<keras.callbacks.History at 0x1bf024c7320>"
      ]
     },
     "execution_count": 31,
     "metadata": {},
     "output_type": "execute_result"
    }
   ],
   "source": [
    "model.fit_generator(feed_data, steps_per_epoch = 3600, epochs = 30, validation_data = (new_rgb_val, new_labels_val))\n",
    "#model.fit(new_rgb, new_labels, epochs = 5, batch_size = 1024, validation_data = (new_rgb_val, new_labels_val))"
   ]
  },
  {
   "cell_type": "code",
   "execution_count": null,
   "metadata": {
    "collapsed": true
   },
   "outputs": [],
   "source": [
    "model.summary()"
   ]
  },
  {
   "cell_type": "code",
   "execution_count": null,
   "metadata": {
    "collapsed": true
   },
   "outputs": [],
   "source": [
    "score = model.evaluate(new_rgb, new_labels)"
   ]
  },
  {
   "cell_type": "code",
   "execution_count": null,
   "metadata": {
    "collapsed": true
   },
   "outputs": [],
   "source": [
    "score"
   ]
  },
  {
   "cell_type": "code",
   "execution_count": 32,
   "metadata": {
    "collapsed": true
   },
   "outputs": [],
   "source": [
    "from keras.models import model_from_json\n",
    "model_json = model.to_json()\n",
    "with open(\"model_adam_0_7_mil.json\", \"w\") as json_file:\n",
    "    json_file.write(model_json)\n",
    "model.save_weights('model_adam_0_7_mil.h5')"
   ]
  },
  {
   "cell_type": "code",
   "execution_count": 33,
   "metadata": {
    "collapsed": true
   },
   "outputs": [],
   "source": [
    "predicted_labels = model.predict(new_rgb)"
   ]
  },
  {
   "cell_type": "code",
   "execution_count": 34,
   "metadata": {
    "collapsed": true
   },
   "outputs": [],
   "source": [
    "import pandas as pd\n",
    "df = pd.DataFrame.from_csv(\"vocabulary.csv\")"
   ]
  },
  {
   "cell_type": "code",
   "execution_count": 35,
   "metadata": {
    "collapsed": true
   },
   "outputs": [],
   "source": [
    "vid_list = df[\"Name\"]"
   ]
  },
  {
   "cell_type": "code",
   "execution_count": 43,
   "metadata": {},
   "outputs": [
    {
     "data": {
      "text/plain": [
       "[52, 26, 12, 58, 2313]"
      ]
     },
     "execution_count": 43,
     "metadata": {},
     "output_type": "execute_result"
    }
   ],
   "source": [
    "#Training set demo\n",
    "k = 3269\n",
    "labels[k]"
   ]
  },
  {
   "cell_type": "code",
   "execution_count": 44,
   "metadata": {},
   "outputs": [
    {
     "data": {
      "image/jpeg": "[encoded data removed]",
      "text/html": [
       "\n",
       "        <iframe\n",
       "            width=\"400\"\n",
       "            height=\"300\"\n",
       "            src=\"https://www.youtube.com/embed/-1u8kRgUxo4\"\n",
       "            frameborder=\"0\"\n",
       "            allowfullscreen\n",
       "        ></iframe>\n",
       "        "
      ],
      "text/plain": [
       "<IPython.lib.display.YouTubeVideo at 0x1bf0257acc0>"
      ]
     },
     "execution_count": 44,
     "metadata": {},
     "output_type": "execute_result"
    }
   ],
   "source": [
    "from IPython.display import YouTubeVideo\n",
    "YouTubeVideo(vid_ids[k])"
   ]
  },
  {
   "cell_type": "code",
   "execution_count": 45,
   "metadata": {},
   "outputs": [
    {
     "name": "stdout",
     "output_type": "stream",
     "text": [
      "Actual Labels are: \n",
      "Dish (food)\n",
      "Cooking\n",
      "Food\n",
      "Cuisine\n",
      "Bánh\n",
      "\n",
      "\n",
      "Predicted Labels are: \n",
      "Food\n",
      "Cooking\n",
      "Recipe\n",
      "Dish (food)\n",
      "Cuisine\n",
      "Cooking show\n",
      "Kitchen\n",
      "Animation\n",
      "Vegetable\n",
      "Eating\n",
      "\n",
      "\n",
      "Number of labels that were found common : 4 out of 5\n"
     ]
    }
   ],
   "source": [
    "print(\"Actual Labels are: \")\n",
    "for label in labels[k]:\n",
    "    print(vid_list[label])\n",
    "actual_len = len(labels[k])\n",
    "print(\"\\n\\nPredicted Labels are: \")\n",
    "\n",
    "temp_list = []\n",
    "for i in range(len(predicted_labels[k])):\n",
    "    temp_list.append((i, predicted_labels[k][i]))\n",
    "temp_list.sort(key = lambda x: x[1], reverse = True)\n",
    "for idx, _ in temp_list[:2*actual_len]:\n",
    "    print(vid_list[idx])\n",
    "    \n",
    "labels_common = 0\n",
    "for idx, _ in temp_list[:2*actual_len]:\n",
    "    if idx in labels[k]:\n",
    "        labels_common += 1\n",
    "print(\"\\n\\nNumber of labels that were found common : \"+str(labels_common) + \" out of \" + str(actual_len))"
   ]
  },
  {
   "cell_type": "code",
   "execution_count": 38,
   "metadata": {
    "collapsed": true
   },
   "outputs": [],
   "source": [
    "predicted_labels_val = model.predict(new_rgb_val)"
   ]
  },
  {
   "cell_type": "code",
   "execution_count": 46,
   "metadata": {},
   "outputs": [
    {
     "data": {
      "text/plain": [
       "(34339, 4716)"
      ]
     },
     "execution_count": 46,
     "metadata": {},
     "output_type": "execute_result"
    }
   ],
   "source": [
    "new_labels_val.shape"
   ]
  },
  {
   "cell_type": "code",
   "execution_count": 47,
   "metadata": {},
   "outputs": [
    {
     "data": {
      "text/plain": [
       "[1, 4, 70, 1593, 94, 575]"
      ]
     },
     "execution_count": 47,
     "metadata": {},
     "output_type": "execute_result"
    }
   ],
   "source": [
    "#Validation set demo\n",
    "k = 21724\n",
    "labels_val[k]"
   ]
  },
  {
   "cell_type": "code",
   "execution_count": 48,
   "metadata": {},
   "outputs": [
    {
     "data": {
      "image/jpeg": "[encoded data removed]",
      "text/html": [
       "\n",
       "        <iframe\n",
       "            width=\"400\"\n",
       "            height=\"300\"\n",
       "            src=\"https://www.youtube.com/embed/-z8PFpYZCeY\"\n",
       "            frameborder=\"0\"\n",
       "            allowfullscreen\n",
       "        ></iframe>\n",
       "        "
      ],
      "text/plain": [
       "<IPython.lib.display.YouTubeVideo at 0x1bf0257a0f0>"
      ]
     },
     "execution_count": 48,
     "metadata": {},
     "output_type": "execute_result"
    }
   ],
   "source": [
    "from IPython.display import YouTubeVideo\n",
    "YouTubeVideo(vid_ids_val[k])"
   ]
  },
  {
   "cell_type": "code",
   "execution_count": 49,
   "metadata": {},
   "outputs": [
    {
     "name": "stdout",
     "output_type": "stream",
     "text": [
      "Actual Labels are: \n",
      "Vehicle\n",
      "Car\n",
      "Driving\n",
      "Digital video recorder\n",
      "Dashcam\n",
      "Traffic\n",
      "\n",
      "\n",
      "Predicted Labels are: \n",
      "Car\n",
      "Vehicle\n",
      "Driving\n",
      "Road\n",
      "Dashcam\n",
      "Sports car\n",
      "Motorsport\n",
      "Racing\n",
      "Highway\n",
      "Race track\n",
      "Traffic\n",
      "Supercar\n",
      "\n",
      "\n",
      "Number of labels that were found common : 5 out of 6\n"
     ]
    }
   ],
   "source": [
    "print(\"Actual Labels are: \")\n",
    "for label in labels_val[k]:\n",
    "    print(vid_list[label])\n",
    "actual_len = len(labels_val[k])\n",
    "print(\"\\n\\nPredicted Labels are: \")\n",
    "\n",
    "temp_list = []\n",
    "for i in range(len(predicted_labels_val[k])):\n",
    "    temp_list.append((i, predicted_labels_val[k][i]))\n",
    "temp_list.sort(key = lambda x: x[1], reverse = True)\n",
    "for idx, _ in temp_list[:2*actual_len]:\n",
    "    print(vid_list[idx])\n",
    "    \n",
    "labels_common = 0\n",
    "for idx, _ in temp_list[:2*actual_len]:\n",
    "    if idx in labels_val[k]:\n",
    "        labels_common += 1\n",
    "print(\"\\n\\nNumber of labels that were found common : \"+str(labels_common) + \" out of \" + str(actual_len))"
   ]
  },
  {
   "cell_type": "code",
   "execution_count": 41,
   "metadata": {},
   "outputs": [
    {
     "name": "stdout",
     "output_type": "stream",
     "text": [
      "Global Average Precision for validation Data : \n",
      "0.5891213424321552\n"
     ]
    }
   ],
   "source": [
    "#Calculates the Global Average Precision by Google\n",
    "print(\"Global Average Precision for validation Data : \")\n",
    "N = 20\n",
    "gap = 0\n",
    "for i in range(len(labels_val)):\n",
    "    actual_len = len(labels_val[i])\n",
    "    temp_list = []\n",
    "    for j in range(len(predicted_labels_val[i])):\n",
    "        temp_list.append((j, predicted_labels_val[i][j]))\n",
    "    temp_list.sort(key = lambda x: x[1], reverse = True)\n",
    "\n",
    "    num_pos = min(actual_len, N)\n",
    "\n",
    "    delta_recall = 1.0/num_pos\n",
    "    \n",
    "    ap = 0\n",
    "    labels_common = 0\n",
    "    N = min(actual_len, N)\n",
    "    for j in range(N):\n",
    "        temp_label, _ = temp_list[j]\n",
    "        if temp_label in labels_val[i]: \n",
    "            labels_common += 1\n",
    "        ap += (float(labels_common)*delta_recall)/(j+1)\n",
    "    gap += ap\n",
    "print(gap/len(labels_val))"
   ]
  },
  {
   "cell_type": "code",
   "execution_count": 42,
   "metadata": {},
   "outputs": [
    {
     "name": "stdout",
     "output_type": "stream",
     "text": [
      "Global Average Precision for training Data : \n",
      "0.5924987350077567\n"
     ]
    }
   ],
   "source": [
    "#Calculates the Global Average Precision by Google\n",
    "print(\"Global Average Precision for training Data : \")\n",
    "N = 20\n",
    "gap = 0\n",
    "for i in range(len(labels)):\n",
    "    actual_len = len(labels[i])\n",
    "    temp_list = []\n",
    "    for j in range(len(predicted_labels[i])):\n",
    "        temp_list.append((j, predicted_labels[i][j]))\n",
    "    temp_list.sort(key = lambda x: x[1], reverse = True)\n",
    "\n",
    "    num_pos = min(actual_len, N)\n",
    "\n",
    "    delta_recall = 1.0/num_pos\n",
    "    \n",
    "    ap = 0\n",
    "    labels_common = 0\n",
    "    N = min(actual_len, N)\n",
    "    for j in range(N):\n",
    "        temp_label, _ = temp_list[j]\n",
    "        if temp_label in labels[i]: \n",
    "            labels_common += 1\n",
    "        ap += (float(labels_common)*delta_recall)/(j+1)\n",
    "    gap += ap\n",
    "print(gap/len(labels))"
   ]
  },
  {
   "cell_type": "markdown",
   "metadata": {
    "collapsed": true
   },
   "source": [
    "# Rough Work"
   ]
  },
  {
   "cell_type": "code",
   "execution_count": null,
   "metadata": {
    "collapsed": true
   },
   "outputs": [],
   "source": [
    "from math import ceil"
   ]
  },
  {
   "cell_type": "code",
   "execution_count": null,
   "metadata": {
    "collapsed": true
   },
   "outputs": [],
   "source": [
    "def em(y_true, y_pred):\n",
    "    total_count = 0\n",
    "    for j in range(len(y_true)):\n",
    "        num_true = 0\n",
    "        for i in range(4716):#len(y_true[j])\n",
    "            if y_true[j][i] == 1:\n",
    "                num_true += 1\n",
    "        temp_list = []\n",
    "        for i in range(4716):#len(y_pred[j])\n",
    "            temp_list.append((i, y_pred[j][i]))\n",
    "        temp_list.sort(key = lambda x: x[1], reverse = True)\n",
    "        new_y_pred = temp_list[:2*num_true] #to make sure we cover atleast 50% of common labels\n",
    "        correct = 0\n",
    "        for pred,_ in new_y_pred:\n",
    "            if y_true[j][pred] == 1:\n",
    "                correct += 1\n",
    "        if correct >= int(num_true/2):\n",
    "            total_count += 1\n",
    "        if j%1000 == 0:\n",
    "            print(j)\n",
    "    return ceil((total_count*100)/len(y_true))"
   ]
  },
  {
   "cell_type": "code",
   "execution_count": null,
   "metadata": {
    "collapsed": true
   },
   "outputs": [],
   "source": [
    "def em2(y_true, y_pred):\n",
    "    count = 0\n",
    "    for i in range(439677):\n",
    "        sum = 0\n",
    "        for j in range(4716):\n",
    "            if y_true[i][j] == 1:\n",
    "                sum += y_pred[i][j]\n",
    "        if sum > 9e-16:\n",
    "            count += 1\n",
    "        if i%10000 == 0:\n",
    "            print(i)\n",
    "    return ceil(float(count * 100)/float(len(y_true)))"
   ]
  },
  {
   "cell_type": "code",
   "execution_count": null,
   "metadata": {
    "collapsed": true
   },
   "outputs": [],
   "source": [
    "print(em2(new_labels, predicted_labels))"
   ]
  },
  {
   "cell_type": "code",
   "execution_count": null,
   "metadata": {
    "collapsed": true
   },
   "outputs": [],
   "source": [
    "count = 0\n",
    "total = len(labels_val)\n",
    "for j in range(total):\n",
    "    actual_len = len(labels_val[j])\n",
    "\n",
    "    temp_list = []\n",
    "    for i in range(len(predicted_labels_val[j])):\n",
    "        temp_list.append((i, predicted_labels_val[j][i]))\n",
    "    temp_list.sort(key = lambda x: x[1], reverse = True)\n",
    "\n",
    "    labels_common = 0\n",
    "    for idx, _ in temp_list[:2*actual_len]:\n",
    "        if idx in labels_val[j]:\n",
    "            labels_common += 1\n",
    "    #print(labels_common, actual_len/2)\n",
    "    if labels_common >= actual_len/2:\n",
    "        count += 1\n",
    "        #print(count)\n",
    "print(count*100/total)"
   ]
  },
  {
   "cell_type": "code",
   "execution_count": null,
   "metadata": {
    "collapsed": true
   },
   "outputs": [],
   "source": [
    "count = 0\n",
    "#total = len(labels_val)\n",
    "total = 0\n",
    "for j in range(len(labels_val)):\n",
    "    actual_len = len(labels_val[j])\n",
    "\n",
    "    temp_list = []\n",
    "    for i in range(len(predicted_labels_val[j])):\n",
    "        temp_list.append((i, predicted_labels_val[j][i]))\n",
    "    temp_list.sort(key = lambda x: x[1], reverse = True)\n",
    "\n",
    "    labels_common = 0\n",
    "    for idx, _ in temp_list[:actual_len]:\n",
    "        if idx in labels_val[j]:\n",
    "            labels_common += 1\n",
    "    #print(labels_common, actual_len/2)\n",
    "    #if labels_common >= actual_len/2:\n",
    "    count += labels_common\n",
    "    total += actual_len\n",
    "        #print(count)\n",
    "print(count*100/total)"
   ]
  },
  {
   "cell_type": "code",
   "execution_count": null,
   "metadata": {
    "collapsed": true
   },
   "outputs": [],
   "source": [
    "count = 0\n",
    "total = len(labels)\n",
    "for j in range(total):\n",
    "    actual_len = len(labels[j])\n",
    "\n",
    "    temp_list = []\n",
    "    for i in range(len(predicted_labels[j])):\n",
    "        temp_list.append((i, predicted_labels[j][i]))\n",
    "    temp_list.sort(key = lambda x: x[1], reverse = True)\n",
    "\n",
    "    labels_common = 0\n",
    "    for idx, _ in temp_list[:actual_len]:\n",
    "        if idx in labels[j]:\n",
    "            labels_common += 1\n",
    "    #print(labels_common, actual_len/2)\n",
    "    if labels_common >= actual_len/2:\n",
    "        count += 1\n",
    "        #print(count)\n",
    "print(count*100/total)"
   ]
  },
  {
   "cell_type": "code",
   "execution_count": null,
   "metadata": {
    "collapsed": true
   },
   "outputs": [],
   "source": [
    "count = 0\n",
    "#total = len(labels_val)\n",
    "total = 0\n",
    "for j in range(len(labels)):\n",
    "    actual_len = len(labels[j])\n",
    "\n",
    "    temp_list = []\n",
    "    for i in range(len(predicted_labels[j])):\n",
    "        temp_list.append((i, predicted_labels[j][i]))\n",
    "    temp_list.sort(key = lambda x: x[1], reverse = True)\n",
    "\n",
    "    labels_common = 0\n",
    "    for idx, _ in temp_list[:actual_len]:\n",
    "        if idx in labels[j]:\n",
    "            labels_common += 1\n",
    "    #print(labels_common, actual_len/2)\n",
    "    #if labels_common >= actual_len/2:\n",
    "    count += labels_common\n",
    "    total += actual_len\n",
    "        #print(count)\n",
    "print(count*100/total)"
   ]
  }
 ],
 "metadata": {
  "kernelspec": {
   "display_name": "Python 3",
   "language": "python",
   "name": "python3"
  },
  "language_info": {
   "codemirror_mode": {
    "name": "ipython",
    "version": 3
   },
   "file_extension": ".py",
   "mimetype": "text/x-python",
   "name": "python",
   "nbconvert_exporter": "python",
   "pygments_lexer": "ipython3",
   "version": "3.5.2"
  }
 },
 "nbformat": 4,
 "nbformat_minor": 2
}
